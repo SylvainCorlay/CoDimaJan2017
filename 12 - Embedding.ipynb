{
 "cells": [
  {
   "cell_type": "markdown",
   "metadata": {},
   "source": [
    "# What is New in ipywidgets 6.0?"
   ]
  },
  {
   "cell_type": "code",
   "execution_count": 1,
   "metadata": {
    "scrolled": true
   },
   "outputs": [
    {
     "data": {
      "application/vnd.jupyter.widget-view+json": {
       "model_id": "66483299e3d84681b54d5073de5e3e2b"
      }
     },
     "metadata": {},
     "output_type": "display_data"
    }
   ],
   "source": [
    "from ipywidgets import VBox, jsdlink, IntSlider, HTML\n",
    "\n",
    "s1 = IntSlider(description='Maximum', min=100, max=200, value=100)\n",
    "s2 = IntSlider(description='Value', value=40)\n",
    "jsdlink((s1, 'value'), (s2, 'max'))\n",
    "VBox([s1, s2])"
   ]
  },
  {
   "cell_type": "code",
   "execution_count": 2,
   "metadata": {},
   "outputs": [
    {
     "data": {
      "application/vnd.jupyter.widget-view+json": {
       "model_id": "725faef47939432aa6e76882ffacfe65"
      }
     },
     "metadata": {},
     "output_type": "display_data"
    }
   ],
   "source": [
    "import numpy as np\n",
    "from bqplot import pyplot as plt\n",
    "\n",
    "n = 100\n",
    "plt.scatter(np.random.randn(n), np.random.randn(n))\n",
    "plt.show()"
   ]
  },
  {
   "cell_type": "markdown",
   "metadata": {},
   "source": [
    "# HTML Code\n",
    "\n",
    "```HTML\n",
    "<html>\n",
    "    <head>\n",
    "    <meta http-equiv=\"content-type\" content=\"text/html; charset=UTF8\">\n",
    "    \n",
    "    <style>\n",
    "    body {\n",
    "        margin-left: auto;\n",
    "        margin-right: auto;\n",
    "        max-width: 900px;\n",
    "        background-color: #eee;\n",
    "        font-family: sans-serif;\n",
    "    }\n",
    "\n",
    "    .jupyter-js-widgets-example {\n",
    "        padding: 10px;\n",
    "        margin-top: 10px;\n",
    "        margin-bottom: 10px;\n",
    "        background-color: white;\n",
    "        overflow: auto;\n",
    "        box-shadow: 0px 0px 12px 1px rgba(87, 87, 87, 0.2);\n",
    "    }\n",
    "\n",
    "    .widgetarea, .inputarea, .snipetarea {\n",
    "        margin: 5px;\n",
    "    }\n",
    "\n",
    "    .CodeMirror {\n",
    "        border: 1px solid #ccc;\n",
    "        height: auto;\n",
    "        background-color: #f7f7f7;\n",
    "        border-radius: 2px;\n",
    "    }\n",
    "\n",
    "    .CodeMirror-Scroll {\n",
    "        height: auto;\n",
    "    }\n",
    "    </style>\n",
    "    </head>\n",
    "    <body>\n",
    "        <h1>Embedding Jupyter Interactive Widgets</h1>\n",
    "        <div class=\"jupyter-js-widgets-example\">\n",
    "        </div>\n",
    "    </body>\n",
    "</html>\n",
    "```\n",
    "\n",
    "# On the Jupyter Website\n",
    "\n",
    "https://jupyter.org/widgets.html\n",
    "\n",
    "# On the VAEX website\n",
    "\n",
    "http://vaex.astro.rug.nl/"
   ]
  }
 ],
 "metadata": {
  "kernelspec": {
   "display_name": "Python 3",
   "language": "python",
   "name": "python3"
  },
  "language_info": {
   "codemirror_mode": {
    "name": "ipython",
    "version": 3
   },
   "file_extension": ".py",
   "mimetype": "text/x-python",
   "name": "python",
   "nbconvert_exporter": "python",
   "pygments_lexer": "ipython3",
   "version": "3.5.2"
  },
  "widgets": {
   "application/vnd.jupyter.widget-state+json": {
    "state": {
     "1d5eca5e67204b0d8effe8f337102431": {
      "model_module": "jupyter-js-widgets",
      "model_module_version": "*",
      "model_name": "LayoutModel",
      "state": {}
     },
     "2767f7e2ad8c4656b504874111445c19": {
      "model_module": "jupyter-js-widgets",
      "model_module_version": "*",
      "model_name": "VBoxModel",
      "state": {
       "children": [
        "IPY_MODEL_f71c71c266954ae2a7c5f2c10a400a76",
        "IPY_MODEL_bd4dc7d439584febba0bfb95f530ff92"
       ],
       "layout": "IPY_MODEL_1d5eca5e67204b0d8effe8f337102431"
      }
     },
     "3ca1dbabe8d541abaeb27caf0dcdde64": {
      "model_module": "bqplot",
      "model_module_version": "*",
      "model_name": "ScatterModel",
      "state": {
       "_model_module": "bqplot",
       "_model_module_version": "*",
       "_view_module": "bqplot",
       "_view_module_version": "*",
       "apply_clip": true,
       "color": {
        "type": null,
        "values": null
       },
       "colors": [
        "DeepSkyBlue"
       ],
       "display_legend": false,
       "enable_hover": true,
       "hovered_style": {},
       "interactions": {
        "hover": "tooltip"
       },
       "labels": [],
       "msg_throttle": 1,
       "names": {
        "type": null,
        "values": null
       },
       "opacity": {
        "type": null,
        "values": null
       },
       "preserve_domain": {},
       "rotation": {
        "type": null,
        "values": null
       },
       "scales": {
        "x": "IPY_MODEL_ec984a9b59c6418a8bc91760b701a5cc",
        "y": "IPY_MODEL_be2a36d8523f4456bc7a6b59c5d30eb2"
       },
       "selected": [],
       "selected_style": {},
       "size": {
        "type": null,
        "values": null
       },
       "skew": {
        "type": null,
        "values": null
       },
       "tooltip": null,
       "tooltip_location": "mouse",
       "tooltip_style": {
        "opacity": 0.9
       },
       "unhovered_style": {},
       "unselected_style": {},
       "visible": true,
       "x": {
        "type": "float64",
        "values": [
         -0.564789995079049,
         -0.20428294862899177,
         1.5439592070933876,
         -1.3274628011160907,
         -0.4432972113362365,
         1.1968446252366252,
         -1.036516380180515,
         -0.8161881161677605,
         0.47564266674990147,
         0.9379978045252841,
         -0.8009052770451254,
         -0.2005742519745691,
         -0.1914359478613724,
         1.900691523119712,
         1.4662002245849333,
         -0.6755927073089457,
         0.8077610106822959,
         -0.28566439099462726,
         0.15642902613933962,
         -0.6497418597932368,
         -0.36740830456439794,
         0.7181564590918662,
         2.005711582328273,
         -1.7819085966701431,
         -0.32111021550564045,
         -0.22781810584126702,
         0.7537435862252019,
         -1.7714430826520193,
         -0.49944382865325776,
         0.5392295075827049,
         -1.4510884778829847,
         -0.9485082327100733,
         0.9446347788887133,
         -0.12232896766161999,
         1.152057562571758,
         -1.3315383817712176,
         -1.4893099347131533,
         2.1401942247182912,
         -1.1539394949413677,
         0.28593729189248046,
         0.7602400156660853,
         0.13839455088518846,
         -0.5433080521448962,
         -0.9862329833807703,
         -1.4296935036890925,
         -0.653958813945436,
         0.04304085941840409,
         1.5461768461478032,
         0.12699907014753076,
         0.2564389947633772,
         -0.6063708539790775,
         0.2999897418298528,
         -0.7102822116166451,
         0.34932823538342733,
         1.1410411632693391,
         -0.0038965494201078327,
         0.11034500089906127,
         0.2066960402483195,
         0.37325634004652064,
         -0.3075178997408999,
         0.09062425963939806,
         2.477721318742911,
         0.30152970341877366,
         0.48291595897082984,
         0.20644818967351422,
         -0.395698534306686,
         -0.1599419103855512,
         -2.354268105769961,
         1.0267089205400524,
         -0.6173530168198732,
         -0.6373119390562747,
         1.035216192527288,
         -0.8590551457439812,
         0.40940505482887574,
         -1.2168487498597522,
         -0.5639734012143965,
         0.48455900444824385,
         0.9592900549370166,
         0.9060867462592415,
         -0.5198662138739201,
         -0.4168797826018822,
         -0.37926894686021245,
         -1.3112188775980806,
         1.334456997611249,
         -2.203601361820836,
         0.3497196007848317,
         -0.37965477911102935,
         -0.9875426764179785,
         0.3781880579257564,
         -0.07221899150427416,
         -0.8814787697905716,
         -2.148267358402179,
         0.5131493901120224,
         0.39891312084606734,
         -0.0858017135517823,
         0.8257286149980014,
         0.33954782071168127,
         -0.0812043208004375,
         -0.13040671101408657,
         0.921162908556917
        ]
       },
       "y": {
        "type": "float64",
        "values": [
         0.2611167344312313,
         0.24249897465426698,
         0.6044736352756797,
         2.0824602437419637,
         0.771064535612835,
         1.7341444894197557,
         -2.016921573983785,
         -1.0688044659016898,
         0.8709670768257216,
         -1.4367082871421402,
         -0.21424761984207666,
         2.0362596162745454,
         -1.316329576566325,
         -1.8349508854323586,
         -1.3983433413831043,
         0.8868873158175626,
         0.4335681092682171,
         -0.41665834969793625,
         0.519324949431646,
         0.24906181576660955,
         0.22387545287915925,
         0.275779690298317,
         0.36175829943860366,
         0.5367143596603212,
         -0.5706849543494323,
         -0.8026051047446638,
         1.0280913401067238,
         -0.24299906792863776,
         0.8297136287718091,
         -0.02755530952330809,
         1.431208420760263,
         0.017069401005387615,
         1.3102378117166649,
         -0.23477874829707518,
         -0.07019048318116182,
         0.7139394388988752,
         0.40810588384656604,
         -0.714836744657945,
         1.4170237257411638,
         0.8818155172081353,
         1.3292225994390354,
         -0.2173970823078929,
         -0.7045701968061776,
         0.5584262126699601,
         0.06304779216995315,
         0.17819975963791798,
         0.6115760770117671,
         -0.8960633374985638,
         -1.2184805369302074,
         0.07727186633876133,
         0.8940520089656069,
         -0.19444669039191528,
         0.3633249529059822,
         1.9530261069307646,
         1.0286888921439457,
         0.021202039157760984,
         -1.9029531598465075,
         0.5131731325865773,
         0.3666256438746015,
         -0.5158297453816065,
         0.027905312337261956,
         -0.9806646122515157,
         -0.5704184585323779,
         1.7255818723766623,
         -0.21839986363810765,
         0.8480719574636699,
         0.49224224944171757,
         0.7652321145771674,
         -0.5499543048040443,
         -0.31106104128018985,
         1.1344757097604459,
         -0.4682010221597763,
         -0.42775202061253764,
         0.6662632077388077,
         0.22085983455275468,
         0.45740319714437894,
         0.5507489661374295,
         -0.24471725598415975,
         -1.2894400340428422,
         -0.2821475387505388,
         -0.1720937482702568,
         0.4187229790988845,
         -1.4689000207264589,
         -0.03825688645591716,
         -1.0889043607754265,
         -0.4374941939835451,
         2.4254147091598277,
         0.08536094751037125,
         0.3730369218903831,
         -0.7130754932076058,
         1.4925481171403425,
         1.0638334723391876,
         -1.256104357297573,
         0.9954386737433906,
         -0.6778765470662208,
         0.4954714456696083,
         -1.461700375616474,
         -0.18639544199277394,
         -1.2222508507251526,
         -0.6533180244219393
        ]
       }
      }
     },
     "5d904bcad22b4f11af7d975c00dbee32": {
      "model_module": "bqplot",
      "model_module_version": "*",
      "model_name": "ToolbarModel",
      "state": {
       "figure": "IPY_MODEL_b6c6101a490e4f3bb0c6d2b0744198a1",
       "layout": "IPY_MODEL_8f5421f5ff184a6283e76d23a3651f98"
      }
     },
     "5fcb133031974e1ba5424fc9850149e5": {
      "model_module": "bqplot",
      "model_module_version": "*",
      "model_name": "AxisModel",
      "state": {
       "scale": "IPY_MODEL_ec984a9b59c6418a8bc91760b701a5cc",
       "side": "bottom",
       "tick_values": {
        "type": null,
        "values": null
       }
      }
     },
     "62492edf7a6b431887e799217d41bb39": {
      "model_module": "jupyter-js-widgets",
      "model_module_version": "*",
      "model_name": "LayoutModel",
      "state": {
       "align_self": "stretch",
       "flex": "1",
       "min_width": "400px"
      }
     },
     "6b4a6a6201e441b093edcd785802a808": {
      "model_module": "jupyter-js-widgets",
      "model_module_version": "*",
      "model_name": "LayoutModel",
      "state": {}
     },
     "7bdc3c6383c3444a992e4a12ae8ba087": {
      "model_module": "bqplot",
      "model_module_version": "*",
      "model_name": "LinearScaleModel",
      "state": {
       "allow_padding": false,
       "max": 1,
       "min": 0,
       "stabilized": false
      }
     },
     "7ce5bc58004145e4af09ddc3b5fa44c7": {
      "model_module": "bqplot",
      "model_module_version": "*",
      "model_name": "AxisModel",
      "state": {
       "orientation": "vertical",
       "scale": "IPY_MODEL_be2a36d8523f4456bc7a6b59c5d30eb2",
       "side": "left",
       "tick_values": {
        "type": null,
        "values": null
       }
      }
     },
     "8f5421f5ff184a6283e76d23a3651f98": {
      "model_module": "jupyter-js-widgets",
      "model_module_version": "*",
      "model_name": "LayoutModel",
      "state": {}
     },
     "932883f109ce48e3ac7ce891f1873ac8": {
      "model_module": "jupyter-js-widgets",
      "model_module_version": "*",
      "model_name": "VBoxModel",
      "state": {
       "children": [
        "IPY_MODEL_b6c6101a490e4f3bb0c6d2b0744198a1",
        "IPY_MODEL_5d904bcad22b4f11af7d975c00dbee32"
       ],
       "layout": "IPY_MODEL_e2de98cca7894d0e9525c3f56a81b08c"
      }
     },
     "9ecef645cf8348fd88548446d4105ab5": {
      "model_module": "jupyter-js-widgets",
      "model_module_version": "*",
      "model_name": "DirectionalLinkModel",
      "state": {
       "source": [
        "IPY_MODEL_f71c71c266954ae2a7c5f2c10a400a76",
        "value"
       ],
       "target": [
        "IPY_MODEL_bd4dc7d439584febba0bfb95f530ff92",
        "max"
       ]
      }
     },
     "9ee910b675ce43c0a473a4ce1ed93153": {
      "model_module": "bqplot",
      "model_module_version": "*",
      "model_name": "LinearScaleModel",
      "state": {
       "allow_padding": false,
       "max": 1,
       "min": 0,
       "stabilized": false
      }
     },
     "b6c6101a490e4f3bb0c6d2b0744198a1": {
      "model_module": "bqplot",
      "model_module_version": "*",
      "model_name": "FigureModel",
      "state": {
       "_dom_classes": [],
       "axes": [
        "IPY_MODEL_7ce5bc58004145e4af09ddc3b5fa44c7",
        "IPY_MODEL_5fcb133031974e1ba5424fc9850149e5"
       ],
       "layout": "IPY_MODEL_62492edf7a6b431887e799217d41bb39",
       "marks": [
        "IPY_MODEL_3ca1dbabe8d541abaeb27caf0dcdde64"
       ],
       "scale_x": "IPY_MODEL_7bdc3c6383c3444a992e4a12ae8ba087",
       "scale_y": "IPY_MODEL_9ee910b675ce43c0a473a4ce1ed93153"
      }
     },
     "bd4dc7d439584febba0bfb95f530ff92": {
      "model_module": "jupyter-js-widgets",
      "model_module_version": "*",
      "model_name": "IntSliderModel",
      "state": {
       "description": "Value",
       "layout": "IPY_MODEL_6b4a6a6201e441b093edcd785802a808",
       "value": 40
      }
     },
     "be2a36d8523f4456bc7a6b59c5d30eb2": {
      "model_module": "bqplot",
      "model_module_version": "*",
      "model_name": "LinearScaleModel",
      "state": {
       "stabilized": false
      }
     },
     "e2de98cca7894d0e9525c3f56a81b08c": {
      "model_module": "jupyter-js-widgets",
      "model_module_version": "*",
      "model_name": "LayoutModel",
      "state": {}
     },
     "ea72d07b99854b249b49cd757bdaa081": {
      "model_module": "jupyter-js-widgets",
      "model_module_version": "*",
      "model_name": "LayoutModel",
      "state": {}
     },
     "ec984a9b59c6418a8bc91760b701a5cc": {
      "model_module": "bqplot",
      "model_module_version": "*",
      "model_name": "LinearScaleModel",
      "state": {
       "stabilized": false
      }
     },
     "f71c71c266954ae2a7c5f2c10a400a76": {
      "model_module": "jupyter-js-widgets",
      "model_module_version": "*",
      "model_name": "IntSliderModel",
      "state": {
       "description": "Maximum",
       "layout": "IPY_MODEL_ea72d07b99854b249b49cd757bdaa081",
       "max": 200,
       "min": 100,
       "value": 100
      }
     }
    },
    "version_major": 1,
    "version_minor": 0
   }
  }
 },
 "nbformat": 4,
 "nbformat_minor": 1
}
